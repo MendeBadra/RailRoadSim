{
 "cells": [
  {
   "cell_type": "code",
   "execution_count": 9,
   "metadata": {},
   "outputs": [],
   "source": [
    "from simulation import load_containers_to_trains, generate_train\n",
    "from simulation import decision_fifo\n",
    "from simulation import decision_optimal, decision_group_probalistic"
   ]
  },
  {
   "cell_type": "code",
   "execution_count": 2,
   "metadata": {},
   "outputs": [],
   "source": [
    "containers = [\n",
    "    {\"Терминал\": \"Туушин\", \"container_id\": 13, \"Date\": \"2024-06-15\"},\n",
    "    {\"Терминал\": \"Толгойт МЧ\", \"container_id\": 12, \"Date\": \"2024-06-13\"},\n",
    "    {\"Терминал\": \"Туушин\", \"container_id\": 17, \"Date\": \"2024-06-15\"},\n",
    "    {\"Терминал\": \"Толгойт МЧ\", \"container_id\": 18, \"Date\": \"2024-06-15\"},\n",
    "    {\"Терминал\": \"Туушин\", \"container_id\": 19, \"Date\": \"2024-06-15\"},\n",
    "    {\"Терминал\": \"Туушин\", \"container_id\": 14, \"Date\": \"2024-06-16\"},\n",
    "    {\"Терминал\": \"Толгойт МЧ\", \"container_id\": 15, \"Date\": \"2024-06-17\"},\n",
    "    {\"Терминал\": \"Туушин\", \"container_id\": 16, \"Date\": \"2024-06-18\"}\n",
    "]"
   ]
  },
  {
   "cell_type": "code",
   "execution_count": 3,
   "metadata": {},
   "outputs": [
    {
     "data": {
      "text/plain": [
       "[0, 2, 4, 5, 7, 1, 3, 6]"
      ]
     },
     "execution_count": 3,
     "metadata": {},
     "output_type": "execute_result"
    }
   ],
   "source": [
    "\n",
    "decision_optimal(containers)"
   ]
  },
  {
   "cell_type": "code",
   "execution_count": 7,
   "metadata": {},
   "outputs": [
    {
     "data": {
      "text/plain": [
       "[{'container_id': None, 'Терминал': None, 'Date': None},\n",
       " {'container_id': None, 'Терминал': None, 'Date': None}]"
      ]
     },
     "execution_count": 7,
     "metadata": {},
     "output_type": "execute_result"
    }
   ],
   "source": [
    "train = generate_train(2)\n",
    "train"
   ]
  },
  {
   "cell_type": "code",
   "execution_count": 5,
   "metadata": {},
   "outputs": [
    {
     "data": {
      "text/plain": [
       "[[{'container_id': 13, 'Терминал': 'Туушин', 'Date': '2024-06-15'},\n",
       "  {'container_id': 17, 'Терминал': 'Туушин', 'Date': '2024-06-15'},\n",
       "  {'container_id': 19, 'Терминал': 'Туушин', 'Date': '2024-06-15'},\n",
       "  {'container_id': 14, 'Терминал': 'Туушин', 'Date': '2024-06-16'},\n",
       "  {'container_id': 16, 'Терминал': 'Туушин', 'Date': '2024-06-18'},\n",
       "  {'container_id': 12, 'Терминал': 'Толгойт МЧ', 'Date': '2024-06-13'}]]"
      ]
     },
     "execution_count": 5,
     "metadata": {},
     "output_type": "execute_result"
    }
   ],
   "source": [
    "load_containers_to_trains(containers, [train], decision_function=decision_optimal)"
   ]
  },
  {
   "cell_type": "code",
   "execution_count": 8,
   "metadata": {},
   "outputs": [
    {
     "data": {
      "text/plain": [
       "[[{'container_id': 13, 'Терминал': 'Туушин', 'Date': '2024-06-15'},\n",
       "  {'container_id': 17, 'Терминал': 'Туушин', 'Date': '2024-06-15'}]]"
      ]
     },
     "execution_count": 8,
     "metadata": {},
     "output_type": "execute_result"
    }
   ],
   "source": [
    "fifo_optimal = decision_fifo(decision_optimal)\n",
    "load_containers_to_trains(containers, [train], decision_function=fifo_optimal)"
   ]
  },
  {
   "cell_type": "code",
   "execution_count": 11,
   "metadata": {},
   "outputs": [
    {
     "data": {
      "text/plain": [
       "[[{'container_id': 16, 'Терминал': 'Туушин', 'Date': '2024-06-18'},\n",
       "  {'container_id': 14, 'Терминал': 'Туушин', 'Date': '2024-06-16'}]]"
      ]
     },
     "execution_count": 11,
     "metadata": {},
     "output_type": "execute_result"
    }
   ],
   "source": [
    "fifo_probabilistic = decision_fifo(lambda c: decision_group_probalistic(c, prob_same_terminal=0.6))\n",
    "load_containers_to_trains(containers, [train], decision_function=fifo_probabilistic)"
   ]
  },
  {
   "cell_type": "code",
   "execution_count": null,
   "metadata": {},
   "outputs": [],
   "source": []
  }
 ],
 "metadata": {
  "kernelspec": {
   "display_name": ".venv",
   "language": "python",
   "name": "python3"
  },
  "language_info": {
   "codemirror_mode": {
    "name": "ipython",
    "version": 3
   },
   "file_extension": ".py",
   "mimetype": "text/x-python",
   "name": "python",
   "nbconvert_exporter": "python",
   "pygments_lexer": "ipython3",
   "version": "3.11.11"
  }
 },
 "nbformat": 4,
 "nbformat_minor": 2
}
