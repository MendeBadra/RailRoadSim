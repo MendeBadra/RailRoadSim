{
 "cells": [
  {
   "cell_type": "code",
   "execution_count": 11,
   "metadata": {},
   "outputs": [],
   "source": [
    "from simulation import decision_optimal, load_containers_to_trains, generate_train"
   ]
  },
  {
   "cell_type": "code",
   "execution_count": 9,
   "metadata": {},
   "outputs": [],
   "source": [
    "containers = [\n",
    "    {\"Терминал\": \"Туушин\", \"container_id\": 13, \"Date\": \"2024-06-15\"},\n",
    "    {\"Терминал\": \"Толгойт МЧ\", \"container_id\": 12, \"Date\": \"2024-06-13\"},\n",
    "    {\"Терминал\": \"Туушин\", \"container_id\": 17, \"Date\": \"2024-06-15\"},\n",
    "    {\"Терминал\": \"Толгойт МЧ\", \"container_id\": 18, \"Date\": \"2024-06-15\"},\n",
    "    {\"Терминал\": \"Туушин\", \"container_id\": 19, \"Date\": \"2024-06-15\"},\n",
    "    {\"Терминал\": \"Туушин\", \"container_id\": 14, \"Date\": \"2024-06-16\"},\n",
    "    {\"Терминал\": \"Толгойт МЧ\", \"container_id\": 15, \"Date\": \"2024-06-17\"},\n",
    "    {\"Терминал\": \"Туушин\", \"container_id\": 16, \"Date\": \"2024-06-18\"}\n",
    "]"
   ]
  },
  {
   "cell_type": "code",
   "execution_count": null,
   "metadata": {},
   "outputs": [
    {
     "data": {
      "text/plain": [
       "[0, 2, 4, 5, 7, 1, 3, 6]"
      ]
     },
     "execution_count": 10,
     "metadata": {},
     "output_type": "execute_result"
    }
   ],
   "source": [
    "\n",
    "decision_optimal(containers)"
   ]
  },
  {
   "cell_type": "code",
   "execution_count": null,
   "metadata": {},
   "outputs": [],
   "source": [
    "train = generate_train(6)\n",
    "load_containers_to_trains(con)"
   ]
  }
 ],
 "metadata": {
  "kernelspec": {
   "display_name": ".venv",
   "language": "python",
   "name": "python3"
  },
  "language_info": {
   "codemirror_mode": {
    "name": "ipython",
    "version": 3
   },
   "file_extension": ".py",
   "mimetype": "text/x-python",
   "name": "python",
   "nbconvert_exporter": "python",
   "pygments_lexer": "ipython3",
   "version": "3.11.11"
  }
 },
 "nbformat": 4,
 "nbformat_minor": 2
}
